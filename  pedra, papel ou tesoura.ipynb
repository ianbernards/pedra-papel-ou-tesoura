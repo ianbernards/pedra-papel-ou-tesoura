{
 "cells": [
  {
   "cell_type": "code",
   "execution_count": 28,
   "id": "efc49129",
   "metadata": {},
   "outputs": [
    {
     "name": "stdout",
     "output_type": "stream",
     "text": [
      "O que você prefere ? 'PE' para pedra 'PA' para papel ou 'TE' para tesoura?TE\n"
     ]
    },
    {
     "ename": "UnboundLocalError",
     "evalue": "local variable 'is_win' referenced before assignment",
     "output_type": "error",
     "traceback": [
      "\u001b[1;31m---------------------------------------------------------------------------\u001b[0m",
      "\u001b[1;31mUnboundLocalError\u001b[0m                         Traceback (most recent call last)",
      "\u001b[1;32mC:\\Users\\GARDNI~1\\AppData\\Local\\Temp/ipykernel_3104/1852407188.py\u001b[0m in \u001b[0;36m<module>\u001b[1;34m\u001b[0m\n\u001b[0;32m     19\u001b[0m             \u001b[1;32mreturn\u001b[0m \u001b[1;34m'true'\u001b[0m\u001b[1;33m\u001b[0m\u001b[1;33m\u001b[0m\u001b[0m\n\u001b[0;32m     20\u001b[0m \u001b[1;33m\u001b[0m\u001b[0m\n\u001b[1;32m---> 21\u001b[1;33m \u001b[0mprint\u001b[0m\u001b[1;33m(\u001b[0m\u001b[0mplay\u001b[0m\u001b[1;33m(\u001b[0m\u001b[1;33m)\u001b[0m\u001b[1;33m)\u001b[0m\u001b[1;33m\u001b[0m\u001b[1;33m\u001b[0m\u001b[0m\n\u001b[0m",
      "\u001b[1;32mC:\\Users\\GARDNI~1\\AppData\\Local\\Temp/ipykernel_3104/1852407188.py\u001b[0m in \u001b[0;36mplay\u001b[1;34m()\u001b[0m\n\u001b[0;32m      8\u001b[0m         \u001b[1;32mreturn\u001b[0m \u001b[1;34m'Empate!'\u001b[0m\u001b[1;33m\u001b[0m\u001b[1;33m\u001b[0m\u001b[0m\n\u001b[0;32m      9\u001b[0m \u001b[1;33m\u001b[0m\u001b[0m\n\u001b[1;32m---> 10\u001b[1;33m     \u001b[1;32mif\u001b[0m \u001b[0mis_win\u001b[0m\u001b[1;33m(\u001b[0m\u001b[0muser\u001b[0m\u001b[1;33m,\u001b[0m \u001b[0mcomputer\u001b[0m\u001b[1;33m)\u001b[0m\u001b[1;33m:\u001b[0m\u001b[1;33m\u001b[0m\u001b[1;33m\u001b[0m\u001b[0m\n\u001b[0m\u001b[0;32m     11\u001b[0m         \u001b[1;32mreturn\u001b[0m \u001b[1;34m'Você ganhou!'\u001b[0m\u001b[1;33m\u001b[0m\u001b[1;33m\u001b[0m\u001b[0m\n\u001b[0;32m     12\u001b[0m \u001b[1;33m\u001b[0m\u001b[0m\n",
      "\u001b[1;31mUnboundLocalError\u001b[0m: local variable 'is_win' referenced before assignment"
     ]
    }
   ],
   "source": [
    "##Jogando pedra papel e tesoura\n",
    "\n",
    "def play():\n",
    "    user = input(\"O que você prefere ? 'PE' para pedra 'PA' para papel ou 'TE' para tesoura?\")\n",
    "    computer = random.choice(['PE', 'PA', 'TE'])\n",
    "    \n",
    "    if user == computer :\n",
    "        return 'Empate!'\n",
    "    \n",
    "    if is_win(user, computer):\n",
    "        return 'Você ganhou!'\n",
    "    \n",
    "    return 'Perdeu'\n",
    "    \n",
    "    # \"PE\" > \"TE\" , \"PA\" > \"PE\" ,  \"TE\" > \"PA\"\n",
    "    \n",
    "    def is_win(player, opponent):\n",
    "        if player == \"PE\" and opponent == \"TE\" or player == \"PA\" and opponent == \"PE\" or player == \"TE\" and opponent == \"PA\":\n",
    "            return 'true'\n",
    "        \n",
    "print(play())\n"
   ]
  }
 ],
 "metadata": {
  "kernelspec": {
   "display_name": "Python 3 (ipykernel)",
   "language": "python",
   "name": "python3"
  },
  "language_info": {
   "codemirror_mode": {
    "name": "ipython",
    "version": 3
   },
   "file_extension": ".py",
   "mimetype": "text/x-python",
   "name": "python",
   "nbconvert_exporter": "python",
   "pygments_lexer": "ipython3",
   "version": "3.9.7"
  }
 },
 "nbformat": 4,
 "nbformat_minor": 5
}
